{
 "cells": [
  {
   "cell_type": "code",
   "execution_count": 2,
   "metadata": {},
   "outputs": [],
   "source": [
    "from keras.models import Sequential\n",
    "from keras.layers import Dense"
   ]
  },
  {
   "cell_type": "code",
   "execution_count": 3,
   "metadata": {},
   "outputs": [],
   "source": [
    "# Creating a Model\n",
    "model = Sequential()"
   ]
  },
  {
   "cell_type": "code",
   "execution_count": 4,
   "metadata": {},
   "outputs": [],
   "source": [
    "layer1 = Dense(units=32, activation = 'relu', input_dim = 30)\n",
    "model.add(layer1)\n",
    "model.add(Dense(units=16, activation = 'relu'))\n",
    "model.add(Dense(units=1, activation = 'sigmoid'))"
   ]
  },
  {
   "cell_type": "code",
   "execution_count": 5,
   "metadata": {},
   "outputs": [
    {
     "name": "stdout",
     "output_type": "stream",
     "text": [
      "WARNING:tensorflow:From /home/s_s_sroy/anaconda3/lib/python3.7/site-packages/tensorflow/python/ops/nn_impl.py:180: add_dispatch_support.<locals>.wrapper (from tensorflow.python.ops.array_ops) is deprecated and will be removed in a future version.\n",
      "Instructions for updating:\n",
      "Use tf.where in 2.0, which has the same broadcast rule as np.where\n"
     ]
    }
   ],
   "source": [
    "model.compile(optimizer='adam', loss='binary_crossentropy', metrics=['accuracy'])"
   ]
  },
  {
   "cell_type": "code",
   "execution_count": 6,
   "metadata": {},
   "outputs": [],
   "source": [
    "from sklearn import datasets\n",
    "cancer = datasets.load_breast_cancer()\n",
    "from sklearn.model_selection import train_test_split\n",
    "\n",
    "x_train, x_test, y_train, y_test = train_test_split(cancer.data, cancer.target, test_size = 0.2, random_state = 0)\n",
    "\n",
    "from sklearn.preprocessing import StandardScaler\n",
    "\n",
    "sc = StandardScaler()\n",
    "x_train = sc.fit_transform(x_train)\n",
    "x_test = sc.transform(x_test)"
   ]
  },
  {
   "cell_type": "code",
   "execution_count": 7,
   "metadata": {
    "collapsed": true
   },
   "outputs": [
    {
     "name": "stdout",
     "output_type": "stream",
     "text": [
      "WARNING:tensorflow:From /home/s_s_sroy/anaconda3/lib/python3.7/site-packages/keras/backend/tensorflow_backend.py:422: The name tf.global_variables is deprecated. Please use tf.compat.v1.global_variables instead.\n",
      "\n",
      "Train on 455 samples, validate on 114 samples\n",
      "Epoch 1/20\n",
      "455/455 [==============================] - 1s 1ms/step - loss: 0.7381 - accuracy: 0.4308 - val_loss: 0.6207 - val_accuracy: 0.6404\n",
      "Epoch 2/20\n",
      "455/455 [==============================] - 0s 52us/step - loss: 0.5783 - accuracy: 0.7473 - val_loss: 0.5080 - val_accuracy: 0.8421\n",
      "Epoch 3/20\n",
      "455/455 [==============================] - 0s 57us/step - loss: 0.4708 - accuracy: 0.8879 - val_loss: 0.4213 - val_accuracy: 0.8596\n",
      "Epoch 4/20\n",
      "455/455 [==============================] - 0s 59us/step - loss: 0.3866 - accuracy: 0.9363 - val_loss: 0.3517 - val_accuracy: 0.8860\n",
      "Epoch 5/20\n",
      "455/455 [==============================] - 0s 50us/step - loss: 0.3179 - accuracy: 0.9451 - val_loss: 0.2957 - val_accuracy: 0.9035\n",
      "Epoch 6/20\n",
      "455/455 [==============================] - 0s 55us/step - loss: 0.2619 - accuracy: 0.9495 - val_loss: 0.2529 - val_accuracy: 0.9211\n",
      "Epoch 7/20\n",
      "455/455 [==============================] - 0s 64us/step - loss: 0.2186 - accuracy: 0.9538 - val_loss: 0.2212 - val_accuracy: 0.9298\n",
      "Epoch 8/20\n",
      "455/455 [==============================] - 0s 58us/step - loss: 0.1852 - accuracy: 0.9604 - val_loss: 0.2003 - val_accuracy: 0.9386\n",
      "Epoch 9/20\n",
      "455/455 [==============================] - 0s 64us/step - loss: 0.1594 - accuracy: 0.9604 - val_loss: 0.1830 - val_accuracy: 0.9386\n",
      "Epoch 10/20\n",
      "455/455 [==============================] - 0s 54us/step - loss: 0.1401 - accuracy: 0.9670 - val_loss: 0.1695 - val_accuracy: 0.9474\n",
      "Epoch 11/20\n",
      "455/455 [==============================] - 0s 56us/step - loss: 0.1249 - accuracy: 0.9692 - val_loss: 0.1585 - val_accuracy: 0.9474\n",
      "Epoch 12/20\n",
      "455/455 [==============================] - 0s 58us/step - loss: 0.1135 - accuracy: 0.9736 - val_loss: 0.1481 - val_accuracy: 0.9474\n",
      "Epoch 13/20\n",
      "455/455 [==============================] - 0s 54us/step - loss: 0.1042 - accuracy: 0.9758 - val_loss: 0.1393 - val_accuracy: 0.9474\n",
      "Epoch 14/20\n",
      "455/455 [==============================] - 0s 50us/step - loss: 0.0964 - accuracy: 0.9758 - val_loss: 0.1328 - val_accuracy: 0.9474\n",
      "Epoch 15/20\n",
      "455/455 [==============================] - 0s 55us/step - loss: 0.0904 - accuracy: 0.9758 - val_loss: 0.1278 - val_accuracy: 0.9474\n",
      "Epoch 16/20\n",
      "455/455 [==============================] - 0s 47us/step - loss: 0.0855 - accuracy: 0.9758 - val_loss: 0.1237 - val_accuracy: 0.9474\n",
      "Epoch 17/20\n",
      "455/455 [==============================] - 0s 49us/step - loss: 0.0812 - accuracy: 0.9758 - val_loss: 0.1203 - val_accuracy: 0.9474\n",
      "Epoch 18/20\n",
      "455/455 [==============================] - 0s 63us/step - loss: 0.0772 - accuracy: 0.9758 - val_loss: 0.1177 - val_accuracy: 0.9474\n",
      "Epoch 19/20\n",
      "455/455 [==============================] - 0s 59us/step - loss: 0.0739 - accuracy: 0.9802 - val_loss: 0.1150 - val_accuracy: 0.9474\n",
      "Epoch 20/20\n",
      "455/455 [==============================] - 0s 56us/step - loss: 0.0709 - accuracy: 0.9780 - val_loss: 0.1136 - val_accuracy: 0.9474\n"
     ]
    },
    {
     "data": {
      "text/plain": [
       "<keras.callbacks.callbacks.History at 0x7fb385df9310>"
      ]
     },
     "execution_count": 7,
     "metadata": {},
     "output_type": "execute_result"
    }
   ],
   "source": [
    "model.fit(x_train, y_train, epochs=20, batch_size = 50, validation_data=(x_test, y_test))"
   ]
  },
  {
   "cell_type": "code",
   "execution_count": 8,
   "metadata": {},
   "outputs": [
    {
     "name": "stdout",
     "output_type": "stream",
     "text": [
      "114/114 [==============================] - 0s 57us/step\n"
     ]
    },
    {
     "data": {
      "text/plain": [
       "[0.11361038527990643, 0.9473684430122375]"
      ]
     },
     "execution_count": 8,
     "metadata": {},
     "output_type": "execute_result"
    }
   ],
   "source": [
    "predictions = model.predict(x_test)\n",
    "score = model.evaluate(x_test, y_test)\n",
    "score"
   ]
  }
 ],
 "metadata": {
  "kernelspec": {
   "display_name": "Python 3",
   "language": "python",
   "name": "python3"
  },
  "language_info": {
   "codemirror_mode": {
    "name": "ipython",
    "version": 3
   },
   "file_extension": ".py",
   "mimetype": "text/x-python",
   "name": "python",
   "nbconvert_exporter": "python",
   "pygments_lexer": "ipython3",
   "version": "3.7.4"
  }
 },
 "nbformat": 4,
 "nbformat_minor": 2
}

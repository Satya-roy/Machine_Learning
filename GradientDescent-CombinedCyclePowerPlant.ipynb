{
 "cells": [
  {
   "cell_type": "code",
   "execution_count": 2,
   "metadata": {},
   "outputs": [],
   "source": [
    "import numpy as np\n",
    "import pandas as pd\n",
    "from sklearn.preprocessing import StandardScaler\n",
    "arg = StandardScaler()"
   ]
  },
  {
   "cell_type": "code",
   "execution_count": 28,
   "metadata": {},
   "outputs": [],
   "source": [
    "def run():\n",
    "    data = np.loadtxt(\"/home/s_s_sroy/Machine learning/0000000000002419_training_ccpp_x_y_train.csv\",delimiter=\",\")\n",
    "    df = pd.DataFrame(data)\n",
    "    print(df.shape)\n",
    "    \n",
    "    y = df[4]\n",
    "    df.drop(4,axis=1,inplace = True)\n",
    "    print(df.shape)\n",
    "    \n",
    "    features = df.columns\n",
    "    \n",
    "    j=4\n",
    "    for i in features:\n",
    "        df[j]=df[i]*df[i]\n",
    "        j+=1\n",
    "    \n",
    "    k=8\n",
    "    for i in features:\n",
    "        df[k]=df[i]*df[i]*df[i]\n",
    "        k+=1\n",
    "    print(df.shape)\n",
    "    \n",
    "    df[12] = y\n",
    "    \n",
    "    data = np.array(df)\n",
    "    iteration = 10\n",
    "    learning_rate = 0.0002\n",
    "    \n",
    "    m = gd(data,learning_rate,iteration)\n",
    "    return m\n"
   ]
  },
  {
   "cell_type": "code",
   "execution_count": 29,
   "metadata": {},
   "outputs": [],
   "source": [
    "def cost(x,y,m):\n",
    "    return (1/(len(x))*((y-(x*m).sum(axis=1))**2)).sum()"
   ]
  },
  {
   "cell_type": "code",
   "execution_count": 30,
   "metadata": {},
   "outputs": [],
   "source": [
    "def gd(data,learning_rate,iteration):\n",
    "    m = np.zeros(data.shape[1])\n",
    "    \n",
    "    y_train = data[:,-1]\n",
    "    x_train = data[:,:-1]\n",
    "    \n",
    "    x_train = arg.fit_transform(x_train)\n",
    "    \n",
    "    temp = np.ones((data.shape[0],data.shape[1]))\n",
    "    temp[:,:-1] = x_train\n",
    "    x_train = temp\n",
    "    \n",
    "    for i in range(iteration):\n",
    "        m = getmc(x_train,y_train,learning_rate,m)\n",
    "        print(cost(x_train,y_train,m))\n",
    "    return m\n",
    "    "
   ]
  },
  {
   "cell_type": "code",
   "execution_count": 31,
   "metadata": {},
   "outputs": [],
   "source": [
    "def getmc(x_train,y_train,learning_rate,m):\n",
    "    slope_m = np.zeros(len(m))\n",
    "    rows = len(x_train)\n",
    "    col = len(m)\n",
    "    \n",
    "    for i in range(rows):\n",
    "        for j in range(col):\n",
    "            \n",
    "            slope_m += (-2/rows)*((y_train[i]-(x_train*m).sum())*x_train[i][j])\n",
    "    new_m = m - learning_rate*slope_m\n",
    "    return new_m"
   ]
  },
  {
   "cell_type": "code",
   "execution_count": 38,
   "metadata": {},
   "outputs": [
    {
     "name": "stdout",
     "output_type": "stream",
     "text": [
      "(7176, 5)\n",
      "(7176, 4)\n",
      "(7176, 12)\n",
      "206667.05400128127\n",
      "206919.17734066024\n",
      "206450.8620248937\n",
      "207338.190392842\n",
      "205718.38304813128\n",
      "208887.4875114815\n",
      "203447.72974129333\n",
      "215328.54368861765\n",
      "199075.9512126389\n",
      "250357.71316541138\n",
      "(2392, 4)\n"
     ]
    }
   ],
   "source": [
    "##\n",
    "\n",
    "m = run()\n",
    "\n",
    "test_data = np.loadtxt(\"/home/s_s_sroy/Machine learning/0000000000002419_test_ccpp_x_test.csv\",delimiter=\",\")\n",
    "\n",
    "df = pd.DataFrame(test_data)\n",
    "print(df.shape)\n",
    "\n",
    "features = df.columns\n",
    "\n",
    "j=4\n",
    "\n",
    "for i in features:\n",
    "    df[j] = df[i]*df[i]\n",
    "    j+=1\n",
    "\n",
    "k=8\n",
    "for i in features:\n",
    "    df[k]=df[i]*df[i]*df[i]\n",
    "    k+=1\n",
    "\n",
    "test_data = np.array(df)\n",
    "test_data = arg.transform(test_data)\n",
    "\n",
    "tmp = np.ones((test_data.shape[0],test_data.shape[1]+1))\n",
    "tmp[:,:-1] = test_data\n",
    "test_data = tmp\n",
    "\n",
    "def pred(m,test_data):\n",
    "    return (m*test_data).sum(axis=1)\n",
    "\n",
    "a = pred(m,test_data)\n",
    "np.savetxt('CCPP_gradientDescent',a,delimiter=\",\")\n"
   ]
  }
 ],
 "metadata": {
  "kernelspec": {
   "display_name": "Python 3",
   "language": "python",
   "name": "python3"
  },
  "language_info": {
   "codemirror_mode": {
    "name": "ipython",
    "version": 3
   },
   "file_extension": ".py",
   "mimetype": "text/x-python",
   "name": "python",
   "nbconvert_exporter": "python",
   "pygments_lexer": "ipython3",
   "version": "3.7.4"
  }
 },
 "nbformat": 4,
 "nbformat_minor": 2
}
